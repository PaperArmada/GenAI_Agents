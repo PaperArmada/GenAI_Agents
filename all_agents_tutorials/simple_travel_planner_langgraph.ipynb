{
 "cells": [
  {
   "cell_type": "markdown",
   "metadata": {},
   "source": [
    "# Building a Travel Planner with LangGraph: A Tutorial\n",
    "\n",
    "## Overview\n",
    "\n",
    "This tutorial guides you through the process of creating a simple Travel Planner using LangGraph, a library for building stateful, multi-step applications with language models. The Travel Planner demonstrates how to structure a conversational AI application that collects user input and generates personalized travel itineraries.\n",
    "\n",
    "## Motivation\n",
    "\n",
    "In the realm of AI applications, managing state and flow in multi-step processes can be challenging. LangGraph provides a solution by allowing developers to create graph-based workflows that can handle complex interactions while maintaining a clear and modular structure. This Travel Planner serves as a practical example of how to leverage LangGraph's capabilities to build a useful and interactive application.\n",
    "\n",
    "## Key Components\n",
    "\n",
    "1. **StateGraph**: The core of our application, defining the flow of our Travel Planner.\n",
    "2. **PlannerState**: A custom type representing the state of our planning process.\n",
    "3. **Node Functions**: Individual steps in our planning process (input_city, input_interests, create_itinerary).\n",
    "4. **LLM Integration**: Utilizing a language model to generate the final itinerary.\n",
    "\n",
    "## Method Details\n",
    "\n",
    "Our Travel Planner follows a straightforward, three-step process:\n",
    "\n",
    "1. **City Input**: \n",
    "   - The application prompts the user to enter the city they want to visit.\n",
    "   - This information is stored in the state.\n",
    "\n",
    "2. **Interests Input**:\n",
    "   - The user is asked to provide their interests for the trip.\n",
    "   - These interests are stored as a list in the state.\n",
    "\n",
    "3. **Itinerary Creation**:\n",
    "   - Using the collected city and interests, the application leverages a language model to generate a personalized day trip itinerary.\n",
    "   - The generated itinerary is presented to the user.\n",
    "\n",
    "The flow between these steps is managed by LangGraph, which handles the state transitions and ensures that each step is executed in the correct order.\n",
    "\n",
    "## Conclusion\n",
    "\n",
    "This tutorial demonstrates how LangGraph can be used to create a simple yet effective Travel Planner. By structuring our application as a graph of interconnected nodes, we achieve a clear separation of concerns and a easily modifiable workflow. This approach can be extended to more complex applications, showcasing the power and flexibility of graph-based designs in AI-driven conversational interfaces.\n",
    "\n",
    "The Travel Planner serves as a starting point for developers looking to build more sophisticated stateful applications using language models. It illustrates key concepts such as state management, user input handling, and integration with AI models, all within the framework provided by LangGraph."
   ]
  },
  {
   "cell_type": "markdown",
   "metadata": {},
   "source": [
    "### Setup and Imports\n",
    "\n",
    "First, let's import the necessary modules and set up our environment."
   ]
  },
  {
   "cell_type": "code",
   "execution_count": 1,
   "metadata": {},
   "outputs": [],
   "source": [
    "import os\n",
    "from typing import TypedDict, Annotated, List\n",
    "from langgraph.graph import StateGraph, END\n",
    "from langchain_core.messages import HumanMessage, AIMessage\n",
    "from langchain_core.prompts import ChatPromptTemplate\n",
    "from langchain_openai import ChatOpenAI\n",
    "from langchain_core.runnables.graph import MermaidDrawMethod\n",
    "from IPython.display import display, Image\n",
    "from dotenv import load_dotenv\n",
    "import os\n",
    "load_dotenv()\n",
    "os.environ[\"OPENAI_API_KEY\"] = os.getenv('OPENAI_API_KEY')"
   ]
  },
  {
   "cell_type": "markdown",
   "metadata": {},
   "source": [
    "### Define Agent State\n",
    "\n",
    "We'll define the state that our agent will maintain throughout its operation."
   ]
  },
  {
   "cell_type": "code",
   "execution_count": 2,
   "metadata": {},
   "outputs": [],
   "source": [
    "class PlannerState(TypedDict):\n",
    "    messages: Annotated[List[HumanMessage | AIMessage], \"The messages in the conversation\"]\n",
    "    city: str\n",
    "    interests: List[str]\n",
    "    itinerary: str"
   ]
  },
  {
   "cell_type": "markdown",
   "metadata": {},
   "source": [
    "### Set Up Language Model and Prompts\n"
   ]
  },
  {
   "cell_type": "code",
   "execution_count": 3,
   "metadata": {},
   "outputs": [],
   "source": [
    "llm = ChatOpenAI(model=\"gpt-4o-mini\")\n",
    "\n",
    "\n",
    "itinerary_prompt = ChatPromptTemplate.from_messages([\n",
    "    (\"system\", \"You are a helpful travel assistant. Create a day trip itinerary for {city} based on the user's interests: {interests}. Provide a brief, bulleted itinerary.\"),\n",
    "    (\"human\", \"Create an itinerary for my day trip.\"),\n",
    "])"
   ]
  },
  {
   "cell_type": "markdown",
   "metadata": {},
   "source": [
    "### Define Agent Functions\n",
    "\n",
    "Now we'll define the main functions that our agent will use: get city, get interests, create itinerary"
   ]
  },
  {
   "cell_type": "code",
   "execution_count": 4,
   "metadata": {},
   "outputs": [],
   "source": [
    "def input_city(state: PlannerState) -> PlannerState:\n",
    "    print(\"Please enter the city you want to visit for your day trip:\")\n",
    "    user_message = input(\"Your input: \")\n",
    "    return {\n",
    "        **state,\n",
    "        \"city\": user_message,\n",
    "        \"messages\": state['messages'] + [HumanMessage(content=user_message)],\n",
    "    }\n",
    "\n",
    "def input_interests(state: PlannerState) -> PlannerState:\n",
    "    print(f\"Please enter your interests for the trip to {state['city']} (comma-separated):\")\n",
    "    user_message = input(\"Your input: \")\n",
    "    return {\n",
    "        **state,\n",
    "        \"interests\": [interest.strip() for interest in user_message.split(',')],\n",
    "        \"messages\": state['messages'] + [HumanMessage(content=user_message)],\n",
    "    }\n",
    "\n",
    "def create_itinerary(state: PlannerState) -> PlannerState:\n",
    "    print(f\"Creating an itinerary for {state['city']} based on interests: {', '.join(state['interests'])}...\")\n",
    "    response = llm.invoke(itinerary_prompt.format_messages(city=state['city'], interests=\", \".join(state['interests'])))\n",
    "    print(\"\\nFinal Itinerary:\")\n",
    "    print(response.content)\n",
    "    return {\n",
    "        **state,\n",
    "        \"messages\": state['messages'] + [AIMessage(content=response.content)],\n",
    "        \"itinerary\": response.content,\n",
    "    }"
   ]
  },
  {
   "cell_type": "markdown",
   "metadata": {},
   "source": [
    "### Create and Compile the Graph\n",
    "\n",
    "Now we'll create our LangGraph workflow and compile it."
   ]
  },
  {
   "cell_type": "code",
   "execution_count": 5,
   "metadata": {},
   "outputs": [],
   "source": [
    "workflow = StateGraph(PlannerState)\n",
    "\n",
    "workflow.add_node(\"input_city\", input_city)\n",
    "workflow.add_node(\"input_interests\", input_interests)\n",
    "workflow.add_node(\"create_itinerary\", create_itinerary)\n",
    "\n",
    "workflow.set_entry_point(\"input_city\")\n",
    "\n",
    "workflow.add_edge(\"input_city\", \"input_interests\")\n",
    "workflow.add_edge(\"input_interests\", \"create_itinerary\")\n",
    "workflow.add_edge(\"create_itinerary\", END)\n",
    "\n",
    "app = workflow.compile()"
   ]
  },
  {
   "cell_type": "markdown",
   "metadata": {},
   "source": [
    "### Display the graph structure"
   ]
  },
  {
   "cell_type": "code",
   "execution_count": 6,
   "metadata": {},
   "outputs": [
    {
     "data": {
      "image/jpeg": "[encoded data removed]",
      "text/plain": [
       "<IPython.core.display.Image object>"
      ]
     },
     "metadata": {},
     "output_type": "display_data"
    }
   ],
   "source": [
    "display(\n",
    "    Image(\n",
    "        app.get_graph().draw_mermaid_png(\n",
    "            draw_method=MermaidDrawMethod.API,\n",
    "        )\n",
    "    )\n",
    ")"
   ]
  },
  {
   "cell_type": "markdown",
   "metadata": {},
   "source": [
    "### Define the function that runs the graph"
   ]
  },
  {
   "cell_type": "code",
   "execution_count": 7,
   "metadata": {},
   "outputs": [],
   "source": [
    "def run_travel_planner(user_request: str):\n",
    "    print(f\"Initial Request: {user_request}\\n\")\n",
    "    state = {\n",
    "        \"messages\": [HumanMessage(content=user_request)],\n",
    "        \"city\": \"\",\n",
    "        \"interests\": [],\n",
    "        \"itinerary\": \"\",\n",
    "    }\n",
    "    \n",
    "    for output in app.stream(state):\n",
    "        pass  # The nodes themselves now handle all printing"
   ]
  },
  {
   "cell_type": "markdown",
   "metadata": {},
   "source": [
    "### Use case example"
   ]
  },
  {
   "cell_type": "code",
   "execution_count": 8,
   "metadata": {},
   "outputs": [
    {
     "name": "stdout",
     "output_type": "stream",
     "text": [
      "Initial Request: I want to plan a day trip.\n",
      "\n",
      "Please enter the city you want to visit for your day trip:\n",
      "Please enter your interests for the trip to Madrid (comma-separated):\n",
      "Creating an itinerary for Madrid based on interests: food, culture, relaxation, art, architecture, music...\n",
      "\n",
      "Final Itinerary:\n",
      "### Day Trip Itinerary for Madrid\n",
      "\n",
      "#### Morning\n",
      "- **Breakfast at Chocolatería San Ginés**\n",
      "  - Indulge in traditional churros with hot chocolate.\n",
      "  \n",
      "- **Visit the Royal Palace of Madrid**\n",
      "  - Explore the stunning architecture and lavish interiors.\n",
      "  - Stroll through the Sabatini Gardens for a relaxing atmosphere.\n",
      "\n",
      "#### Late Morning\n",
      "- **Explore the Almudena Cathedral**\n",
      "  - Admire the beautiful neo-Romanesque and neo-Gothic architecture.\n",
      "\n",
      "- **Walk through Plaza Mayor**\n",
      "  - Experience the vibrant atmosphere and grab a coffee at one of the quaint cafés.\n",
      "\n",
      "#### Lunch\n",
      "- **Tapas Lunch at Mercado de San Miguel**\n",
      "  - Sample a variety of Spanish tapas and local delicacies.\n",
      "\n",
      "#### Afternoon\n",
      "- **Visit the Prado Museum**\n",
      "  - Discover masterpieces by Velázquez, Goya, and other renowned artists.\n",
      "  \n",
      "- **Stroll in Retiro Park**\n",
      "  - Relax by the lake, rent a rowboat, or simply enjoy the tranquil gardens.\n",
      "\n",
      "#### Late Afternoon\n",
      "- **Explore the Reina Sofia Museum**\n",
      "  - Immerse yourself in modern art, including Picasso’s Guernica.\n",
      "\n",
      "#### Evening\n",
      "- **Dinner at a Traditional Spanish Restaurant**\n",
      "  - Enjoy classic dishes such as paella or cocido madrileño.\n",
      "\n",
      "#### Night\n",
      "- **Flamenco Show at Corral de la Morería**\n",
      "  - Experience authentic Spanish music and dance in an intimate setting.\n",
      "\n",
      "#### Optional Late Night\n",
      "- **Drinks at a Rooftop Bar**\n",
      "  - End your day with a cocktail while enjoying stunning views of the city skyline.\n",
      "\n",
      "### Tips:\n",
      "- Wear comfortable shoes for walking.\n",
      "- Make reservations for the flamenco show and dinner in advance.\n",
      "- Check museum hours ahead of time to plan your visits.\n"
     ]
    }
   ],
   "source": [
    "user_request = \"I want to plan a day trip.\"\n",
    "run_travel_planner(user_request)"
   ]
  },
  {
   "cell_type": "markdown",
   "metadata": {},
   "source": [
    "## Run the Agent\n",
    "\n",
    "Now let's run our agent with a sample request!"
   ]
  }
 ],
 "metadata": {
  "kernelspec": {
   "display_name": "Python 3",
   "language": "python",
   "name": "python3"
  },
  "language_info": {
   "codemirror_mode": {
    "name": "ipython",
    "version": 3
   },
   "file_extension": ".py",
   "mimetype": "text/x-python",
   "name": "python",
   "nbconvert_exporter": "python",
   "pygments_lexer": "ipython3",
   "version": "3.10.14"
  }
 },
 "nbformat": 4,
 "nbformat_minor": 4
}
